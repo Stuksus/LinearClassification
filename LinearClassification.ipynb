{
 "cells": [
  {
   "cell_type": "markdown",
   "metadata": {},
   "source": [
    "## Введение"
   ]
  },
  {
   "cell_type": "markdown",
   "metadata": {},
   "source": [
    "Работа по освоению линейной классификатор. Для этого считаю необходимым написать базовый алгоритм самостоятельно, а потом сравнить его с готовым решением из пакета sklearn. Для работы буду использовать модель линейной классификации с L2 регуляризацией и стохастический градиентный спуск как оптимизатор."
   ]
  },
  {
   "cell_type": "code",
   "execution_count": 1,
   "metadata": {},
   "outputs": [],
   "source": [
    "from torch.nn import Linear\n",
    "import torch\n",
    "import numpy as np\n",
    "from sklearn.datasets import load_breast_cancer\n",
    "import torch.nn.functional as F\n",
    "from sklearn.model_selection import train_test_split\n"
   ]
  },
  {
   "cell_type": "code",
   "execution_count": 2,
   "metadata": {},
   "outputs": [],
   "source": [
    "iris = load_breast_cancer()"
   ]
  },
  {
   "cell_type": "code",
   "execution_count": 3,
   "metadata": {},
   "outputs": [],
   "source": [
    "# iris.target = np.where(iris.target == 0, -1,iris.target)"
   ]
  },
  {
   "cell_type": "code",
   "execution_count": 4,
   "metadata": {},
   "outputs": [],
   "source": [
    "train_X,test_X,train_Y,test_Y = train_test_split(iris.data,\n",
    "                                                iris.target,\n",
    "                                                test_size = 0.33,\n",
    "                                                random_state = 42)\n",
    "\n",
    "train_X_torch = torch.tensor(train_X, dtype = torch.float64)\n",
    "train_Y_torch = torch.tensor(train_Y, dtype = torch.float64)\n",
    "test_X_torch = torch.tensor(test_X, dtype = torch.float64)\n",
    "test_Y_torch = torch.tensor(test_Y, dtype = torch.float64)"
   ]
  },
  {
   "cell_type": "code",
   "execution_count": 5,
   "metadata": {},
   "outputs": [],
   "source": [
    "class LinearClassifier():\n",
    "    def __init__(self,n_features,max_iter = 1000):\n",
    "        self.n_features = n_features\n",
    "        self.max_iter = max_iter\n",
    "        self.model = torch.nn.Sequential()\n",
    "        \n",
    "        self.model.add_module('first', torch.nn.Linear(self.n_features,1))\n",
    "        self.model.add_module('second', torch.nn.Sigmoid())\n",
    "        self.model =  self.model.double()\n",
    "        self.optimizer = torch.optim.Adam(self.model.parameters(), lr = 1e-3)\n",
    "    \n",
    "    def fit(self,design_matrix,target):\n",
    "        history = []\n",
    "        for i in range(self.max_iter):\n",
    "            sampling  = np.random.randint(0,design_matrix.shape[1],30)\n",
    "            part_design_matrix = design_matrix[sampling]\n",
    "            part_target_vector = target[sampling]\n",
    "            self.wight = torch.tensor(self.model.state_dict()['first.weight'],\n",
    "                                      requires_grad=True,\n",
    "                                      dtype = torch.float64\n",
    "                                     )\n",
    "            self.bias = torch.tensor(self.model.state_dict()['first.bias'],\n",
    "                                     requires_grad=True,\n",
    "                                     dtype = torch.float64\n",
    "                                    )\n",
    "            loss = torch.mean(\n",
    "               torch.log(1+torch.exp(-(\n",
    "                    part_target_vector*(\n",
    "                        part_design_matrix.matmul(self.wight.transpose(0,1)))))))\n",
    "#             pred = self.model(part_design_matrix)[:,0]\n",
    "#             loss = torch.mean(F.binary_cross_entropy(pred,\n",
    "#                                                     part_target_vector,\n",
    "#                                                     reduce = 'none'),dim = 0,keepdim = True)\n",
    "\n",
    "\n",
    "\n",
    "            loss.backward()\n",
    "            self.optimizer.step()\n",
    "            self.optimizer.zero_grad()\n",
    "            history.append(loss.data.numpy())\n",
    "            if i % 100 == 0:\n",
    "                print('loss{}:{}'.format(i, np.mean(history[-100:])))\n",
    "\n",
    "        return self.model\n",
    "    \n",
    "    def predict(self,design_matrix):\n",
    "        return self.model(design_matrix)\n",
    "\n",
    "            "
   ]
  },
  {
   "cell_type": "code",
   "execution_count": 6,
   "metadata": {},
   "outputs": [],
   "source": [
    "torch_classifier = LinearClassifier(30)"
   ]
  },
  {
   "cell_type": "code",
   "execution_count": 7,
   "metadata": {
    "scrolled": false
   },
   "outputs": [
    {
     "name": "stderr",
     "output_type": "stream",
     "text": [
      "C:\\Users\\Anton\\Anaconda3\\lib\\site-packages\\ipykernel_launcher.py:20: UserWarning: To copy construct from a tensor, it is recommended to use sourceTensor.clone().detach() or sourceTensor.clone().detach().requires_grad_(True), rather than torch.tensor(sourceTensor).\n",
      "C:\\Users\\Anton\\Anaconda3\\lib\\site-packages\\ipykernel_launcher.py:24: UserWarning: To copy construct from a tensor, it is recommended to use sourceTensor.clone().detach() or sourceTensor.clone().detach().requires_grad_(True), rather than torch.tensor(sourceTensor).\n"
     ]
    },
    {
     "name": "stdout",
     "output_type": "stream",
     "text": [
      "loss0:1.2951315960983258\n",
      "loss100:2.63324541956442\n",
      "loss200:2.6997578136708076\n",
      "loss300:2.9933239460377656\n",
      "loss400:2.844085392103214\n",
      "loss500:2.7796955514354322\n",
      "loss600:2.655453630302964\n",
      "loss700:2.934714461174349\n",
      "loss800:2.856090234855324\n",
      "loss900:2.794499919727765\n"
     ]
    },
    {
     "data": {
      "text/plain": [
       "Sequential(\n",
       "  (first): Linear(in_features=30, out_features=1, bias=True)\n",
       "  (second): Sigmoid()\n",
       ")"
      ]
     },
     "execution_count": 7,
     "metadata": {},
     "output_type": "execute_result"
    }
   ],
   "source": [
    "torch_classifier.fit(train_X_torch,train_Y_torch)"
   ]
  },
  {
   "cell_type": "code",
   "execution_count": 8,
   "metadata": {
    "scrolled": true
   },
   "outputs": [],
   "source": [
    "final_pred = torch_classifier.predict(test_X_torch)[:,0]\n"
   ]
  },
  {
   "cell_type": "code",
   "execution_count": 9,
   "metadata": {},
   "outputs": [
    {
     "data": {
      "text/plain": [
       "tensor([9.9834e-01, 1.0176e-10, 4.9593e-03, 1.0000e+00, 1.0000e+00, 6.6563e-01,\n",
       "        3.4365e-03, 1.0000e+00, 1.0000e+00, 1.0000e+00, 1.0000e+00, 9.9742e-01,\n",
       "        1.0000e+00, 1.0000e+00, 1.0000e+00, 1.0000e+00, 1.0000e+00, 1.0000e+00,\n",
       "        9.9842e-01, 9.9988e-01, 9.9915e-01, 1.0000e+00, 8.6419e-05, 9.9990e-01,\n",
       "        1.0000e+00, 1.0000e+00, 1.0000e+00, 1.0000e+00, 1.0000e+00, 7.2859e-17,\n",
       "        1.0000e+00, 1.0000e+00, 1.0000e+00, 9.9980e-01, 1.0000e+00, 1.0000e+00,\n",
       "        3.4976e-01, 1.0000e+00, 2.7634e-06, 1.0000e+00, 1.0000e+00, 9.1572e-01,\n",
       "        1.0000e+00, 9.9998e-01, 1.0000e+00, 9.9969e-01, 9.9999e-01, 9.9994e-01,\n",
       "        9.9954e-01, 1.0000e+00, 5.0370e-06, 2.6055e-03, 1.0000e+00, 1.0000e+00,\n",
       "        1.0000e+00, 9.9999e-01, 1.0000e+00, 9.9999e-01, 9.9993e-01, 1.0000e+00,\n",
       "        1.0000e+00, 9.9566e-01, 1.0000e+00, 1.0000e+00, 1.0000e+00, 9.9998e-01,\n",
       "        2.4779e-06, 1.0000e+00, 1.0000e+00, 1.0000e+00, 9.9995e-01, 1.4698e-07,\n",
       "        1.0000e+00, 1.0000e+00, 9.7084e-01, 1.0000e+00, 1.0000e+00, 9.9993e-01,\n",
       "        1.0000e+00, 1.0000e+00, 5.3673e-01, 9.9999e-01, 1.0000e+00, 6.7294e-01,\n",
       "        9.9997e-01, 1.0000e+00, 1.1706e-01, 9.9578e-01, 1.0000e+00, 1.0000e+00,\n",
       "        9.9998e-01, 9.9997e-01, 1.0000e+00, 1.0000e+00, 1.0000e+00, 9.9999e-01,\n",
       "        9.9989e-01, 1.5834e-13, 1.0000e+00, 9.9754e-01, 1.0851e-08, 1.0000e+00,\n",
       "        2.4536e-02, 9.9989e-01, 9.9740e-01, 9.9999e-01, 1.0000e+00, 2.4634e-15,\n",
       "        1.0000e+00, 1.0000e+00, 8.7693e-01, 1.0000e+00, 1.0000e+00, 1.7509e-66,\n",
       "        9.9982e-01, 2.2195e-11, 1.0000e+00, 9.9766e-01, 1.0000e+00, 8.3924e-01,\n",
       "        1.0000e+00, 1.0000e+00, 1.0000e+00, 9.9995e-01, 1.0000e+00, 8.8395e-04,\n",
       "        2.0097e-04, 9.9966e-01, 1.0000e+00, 2.2400e-08, 1.2538e-20, 9.9999e-01,\n",
       "        9.9999e-01, 1.0000e+00, 1.0000e+00, 9.9998e-01, 1.0000e+00, 1.0000e+00,\n",
       "        1.0000e+00, 1.2116e-06, 9.9997e-01, 2.1326e-28, 1.0000e+00, 1.0000e+00,\n",
       "        3.1726e-01, 1.0000e+00, 2.6626e-03, 1.0000e+00, 9.9079e-01, 1.0000e+00,\n",
       "        3.5139e-01, 1.0000e+00, 9.9983e-01, 1.0000e+00, 1.0000e+00, 5.5574e-05,\n",
       "        1.0000e+00, 8.4565e-01, 1.0000e+00, 1.0000e+00, 1.0000e+00, 9.9993e-01,\n",
       "        9.9970e-01, 1.0000e+00, 9.9999e-01, 9.9996e-01, 1.0000e+00, 1.0000e+00,\n",
       "        9.9998e-01, 9.9999e-01, 1.0000e+00, 1.0000e+00, 1.0000e+00, 1.0000e+00,\n",
       "        1.0000e+00, 1.0000e+00, 1.0000e+00, 1.0000e+00, 9.9998e-01, 1.0000e+00,\n",
       "        1.0000e+00, 9.9922e-01, 9.9993e-01, 3.8378e-01, 2.5677e-01, 2.1508e-01,\n",
       "        1.0000e+00, 1.0000e+00], dtype=torch.float64, grad_fn=<SelectBackward>)"
      ]
     },
     "execution_count": 9,
     "metadata": {},
     "output_type": "execute_result"
    }
   ],
   "source": [
    "final_pred"
   ]
  },
  {
   "cell_type": "code",
   "execution_count": 10,
   "metadata": {},
   "outputs": [],
   "source": [
    "final_pred = np.array(final_pred > 0.6)"
   ]
  },
  {
   "cell_type": "code",
   "execution_count": 11,
   "metadata": {},
   "outputs": [
    {
     "data": {
      "text/plain": [
       "array([ True, False, False,  True,  True,  True, False,  True,  True,\n",
       "        True,  True,  True,  True,  True,  True,  True,  True,  True,\n",
       "        True,  True,  True,  True, False,  True,  True,  True,  True,\n",
       "        True,  True, False,  True,  True,  True,  True,  True,  True,\n",
       "       False,  True, False,  True,  True,  True,  True,  True,  True,\n",
       "        True,  True,  True,  True,  True, False, False,  True,  True,\n",
       "        True,  True,  True,  True,  True,  True,  True,  True,  True,\n",
       "        True,  True,  True, False,  True,  True,  True,  True, False,\n",
       "        True,  True,  True,  True,  True,  True,  True,  True, False,\n",
       "        True,  True,  True,  True,  True, False,  True,  True,  True,\n",
       "        True,  True,  True,  True,  True,  True,  True, False,  True,\n",
       "        True, False,  True, False,  True,  True,  True,  True, False,\n",
       "        True,  True,  True,  True,  True, False,  True, False,  True,\n",
       "        True,  True,  True,  True,  True,  True,  True,  True, False,\n",
       "       False,  True,  True, False, False,  True,  True,  True,  True,\n",
       "        True,  True,  True,  True, False,  True, False,  True,  True,\n",
       "       False,  True, False,  True,  True,  True, False,  True,  True,\n",
       "        True,  True, False,  True,  True,  True,  True,  True,  True,\n",
       "        True,  True,  True,  True,  True,  True,  True,  True,  True,\n",
       "        True,  True,  True,  True,  True,  True,  True,  True,  True,\n",
       "        True,  True,  True, False, False, False,  True,  True])"
      ]
     },
     "execution_count": 11,
     "metadata": {},
     "output_type": "execute_result"
    }
   ],
   "source": [
    "final_pred"
   ]
  },
  {
   "cell_type": "code",
   "execution_count": 12,
   "metadata": {
    "scrolled": true
   },
   "outputs": [
    {
     "data": {
      "text/plain": [
       "81.38297872340425"
      ]
     },
     "execution_count": 12,
     "metadata": {},
     "output_type": "execute_result"
    }
   ],
   "source": [
    "np.mean(np.array(final_pred) == np.array(test_Y_torch))*100"
   ]
  }
 ],
 "metadata": {
  "kernelspec": {
   "display_name": "Python 3",
   "language": "python",
   "name": "python3"
  },
  "language_info": {
   "codemirror_mode": {
    "name": "ipython",
    "version": 3
   },
   "file_extension": ".py",
   "mimetype": "text/x-python",
   "name": "python",
   "nbconvert_exporter": "python",
   "pygments_lexer": "ipython3",
   "version": "3.7.4"
  }
 },
 "nbformat": 4,
 "nbformat_minor": 2
}
