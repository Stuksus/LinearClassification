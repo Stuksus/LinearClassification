{
 "cells": [
  {
   "cell_type": "markdown",
   "metadata": {},
   "source": [
    "## Формулы"
   ]
  },
  {
   "cell_type": "markdown",
   "metadata": {},
   "source": [
    "Область значения функции линейной регрессии принадлежит рациональным значениям, т.е.:\n",
    "$$\n",
    "y = Xw^{T} \\in R\n",
    "$$\n",
    "где $X$ - матрица признаков, $w^{T}$ - вектор весов  \n",
    "Вероятность объекта принадлежать положительному классу принадлежит отрезку от 0 до 1, т.е.:\n",
    "$$\n",
    "p_+ \\in [0,1]\n",
    "$$\n",
    "Чтобы воспользоваться линейной для классификации необходимо привести область значений линейной регрессии к области значений вероятность объекта принадлежать положительному классу\n",
    "$$\n",
    "\\frac{p_+}{1-p_+} \\in [0,+\\infty)\n",
    "$$\n",
    "Прологарифмируем это отношение\n",
    "$$\n",
    "\\ln(\\frac{p_+}{1-p_+}) \\in R\n",
    "$$\n",
    "Теперь области значений выражений совпадают и их можно приравнять\n",
    "$$\n",
    "\\ln(\\frac{p_+}{1-p_+}) =  Xw^{T} <=>  (\\frac{p_+}{1-p_+}) = e^{(Xw^{T})}\n",
    "$$\n",
    "Выразим $p_+$ из полученного уравнения\n",
    "$$\n",
    "p_+ = \\frac{e^{Xw^{T}}}{1-e^{Xw^{T}}}\n",
    "$$\n",
    "Упрастим получившуюся дробь\n",
    "$$\n",
    "p_+ = \\frac{1}{1+e^{-Xw^{T}}} = \\sigma(Xw^{T}) \\in [0,1]\n",
    "$$\n",
    "Мы получили сигмоиду\n",
    "Введем понятие Margin: $M = y_{true} * Xw^{T}$, где \n",
    "$y_{true}$ вектор истиных меток\n",
    "Рассмотрим вычисление вероятности объекта принадлежать определенному классу  \n",
    "При y = 1: $P(x_i,1|w) = \\sigma_w(x_i) = \\sigma_w(M_i) $  \n",
    "При y = -1: $P(x_i,-1|w) = 1 - \\sigma_w(x_i) = \\sigma_w(-x_i) = \\sigma_w(M_i) $  \n",
    "где $x_i$ вектор признаков i-того объекта, $M_i$ - margin i-того объекта  \n",
    "Тогда  \n",
    "$\\log(L(w|X,Y)) = \\sum_{i = 1}^{n}\\log(\\sigma_w(M_i)) = \\sum_{i = 1}^{n}\\log(\\sigma_w(1+exp(-M_i))) \\rightarrow min$  "
   ]
  },
  {
   "cell_type": "code",
   "execution_count": 1,
   "metadata": {},
   "outputs": [],
   "source": [
    "from torch.nn import Linear\n",
    "import torch\n",
    "import pandas as pd\n",
    "import numpy as np\n",
    "from sklearn.model_selection import train_test_split\n",
    "from sklearn.metrics import accuracy_score\n",
    "from sklearn.datasets import load_digits\n",
    "from sklearn.metrics import roc_curve\n",
    "from sklearn.metrics import auc\n",
    "import matplotlib.pyplot as plt"
   ]
  },
  {
   "cell_type": "code",
   "execution_count": 2,
   "metadata": {},
   "outputs": [],
   "source": [
    "digits = load_digits(n_class=2)"
   ]
  },
  {
   "cell_type": "markdown",
   "metadata": {},
   "source": [
    "Заменим метки классов (0 заменим на -1) "
   ]
  },
  {
   "cell_type": "code",
   "execution_count": 3,
   "metadata": {},
   "outputs": [],
   "source": [
    "digits.target = np.where(digits.target == 0, -1,digits.target)"
   ]
  },
  {
   "cell_type": "markdown",
   "metadata": {},
   "source": [
    "Разделим данные на тренеровочную и тестовую выборку"
   ]
  },
  {
   "cell_type": "code",
   "execution_count": 4,
   "metadata": {},
   "outputs": [],
   "source": [
    "train_X,test_X,train_Y,test_Y = train_test_split(digits.data,\n",
    "                                                digits.target,\n",
    "                                                test_size = 0.33,\n",
    "                                                random_state = 42)\n",
    "\n",
    "train_X_torch = torch.tensor(train_X, dtype = torch.float32)\n",
    "train_Y_torch = torch.tensor(train_Y, dtype = torch.float32)\n",
    "test_X_torch = torch.tensor(test_X, dtype = torch.float32)\n",
    "test_Y_torch = torch.tensor(test_Y, dtype = torch.float32)"
   ]
  },
  {
   "cell_type": "markdown",
   "metadata": {},
   "source": [
    "Реализуем класс линейного классификатора"
   ]
  },
  {
   "cell_type": "code",
   "execution_count": 5,
   "metadata": {},
   "outputs": [],
   "source": [
    "class LinearClassifier():\n",
    "    def __init__(self,n_features,max_iter = 1000):\n",
    "        self.n_features = n_features\n",
    "        self.max_iter = max_iter\n",
    "        self.model = torch.nn.Sequential()\n",
    "        self.model.add_module('first', torch.nn.Linear(self.n_features,1))\n",
    "        self.model.add_module('second', torch.nn.Sigmoid())\n",
    "        self.optimizer = torch.optim.SGD(self.model.parameters(), lr = 1e-3)\n",
    "    \n",
    "    def fit(self,design_matrix,target):\n",
    "        history = []\n",
    "        for i in range(self.max_iter):\n",
    "            #создание небольших обучающих выборок\n",
    "            sampling  = np.random.randint(0,design_matrix.shape[1],25)\n",
    "            part_design_matrix = design_matrix[sampling]\n",
    "            part_target_vector = target[sampling]\n",
    "            \n",
    "            #получим вектор весов и сдвиг из линейной модели\n",
    "            self.wight = torch.tensor(self.model.state_dict()['first.weight'],\n",
    "                                      requires_grad=True,\n",
    "                                      dtype = torch.float32\n",
    "                                     )\n",
    "            self.bias = torch.tensor(self.model.state_dict()['first.bias'],\n",
    "                                     requires_grad=True,\n",
    "                                     dtype = torch.float32\n",
    "                                    )\n",
    "            # Посчитаем ошибку \n",
    "            loss = torch.mean(\n",
    "               torch.log(1+torch.exp(-(\n",
    "                    part_target_vector*(\n",
    "                        part_design_matrix.matmul(self.wight.transpose(0,1)) + self.bias)))))\n",
    "\n",
    "\n",
    "\n",
    "            loss.backward()\n",
    "            self.optimizer.step()\n",
    "            self.optimizer.zero_grad()\n",
    "            \n",
    "            history.append(loss.data.numpy())\n",
    "            if i % 100 == 0:\n",
    "                print('loss{}:{}'.format(i, np.mean(history[-100:])))\n",
    "\n",
    "    \n",
    "    def predict(self,design_matrix):\n",
    "        return self.model(design_matrix)[:,0]\n",
    "\n",
    "            "
   ]
  },
  {
   "cell_type": "code",
   "execution_count": 6,
   "metadata": {},
   "outputs": [],
   "source": [
    "torch_classifier = LinearClassifier(64)"
   ]
  },
  {
   "cell_type": "code",
   "execution_count": 7,
   "metadata": {
    "scrolled": true
   },
   "outputs": [
    {
     "name": "stderr",
     "output_type": "stream",
     "text": [
      "/anaconda/envs/azureml_py36/lib/python3.6/site-packages/ipykernel_launcher.py:21: UserWarning: To copy construct from a tensor, it is recommended to use sourceTensor.clone().detach() or sourceTensor.clone().detach().requires_grad_(True), rather than torch.tensor(sourceTensor).\n",
      "/anaconda/envs/azureml_py36/lib/python3.6/site-packages/ipykernel_launcher.py:25: UserWarning: To copy construct from a tensor, it is recommended to use sourceTensor.clone().detach() or sourceTensor.clone().detach().requires_grad_(True), rather than torch.tensor(sourceTensor).\n"
     ]
    },
    {
     "name": "stdout",
     "output_type": "stream",
     "text": [
      "loss0:2.714433193206787\n",
      "loss100:2.908226728439331\n",
      "loss200:2.838228225708008\n",
      "loss300:2.9529662132263184\n",
      "loss400:2.808241605758667\n",
      "loss500:3.0026538372039795\n",
      "loss600:2.9913032054901123\n",
      "loss700:2.985593557357788\n",
      "loss800:2.874203681945801\n",
      "loss900:3.0302846431732178\n"
     ]
    }
   ],
   "source": [
    "torch_classifier.fit(train_X_torch,train_Y_torch)"
   ]
  },
  {
   "cell_type": "markdown",
   "metadata": {},
   "source": [
    "Предскажим метки на тестовой выборке"
   ]
  },
  {
   "cell_type": "code",
   "execution_count": 8,
   "metadata": {
    "scrolled": true
   },
   "outputs": [],
   "source": [
    "final_pred = torch_classifier.predict(test_X_torch)"
   ]
  },
  {
   "cell_type": "markdown",
   "metadata": {},
   "source": [
    "Напишем функцию, которая на основании ROC-кривой подберет наилучший порог, при котором мы получим максимальную точность "
   ]
  },
  {
   "cell_type": "code",
   "execution_count": 9,
   "metadata": {},
   "outputs": [],
   "source": [
    "def best_threshold(target_vector,predictions):\n",
    "    # Первичное получение данных метрики ROC-кривой\n",
    "    fpr, tpr, thresholds = roc_curve(np.array(target_vector), predictions.data.numpy(), pos_label=1)\n",
    "    best_accuracy = 0\n",
    "    best_threshold = -1\n",
    "    \n",
    "    #Найдем площадь под кривой\n",
    "    auc_value = round(auc(fpr,tpr),2)\n",
    "    \n",
    "    #Если площадь будеть меньше 0.5, это означает, что нужно нужно вычесть каждую вероятность из 1\n",
    "    if auc_value < 0.5:\n",
    "        predictions = 1 - predictions\n",
    "        fpr, tpr, thresholds = roc_curve(np.array(target_vector), predictions.data.numpy(), pos_label=1)\n",
    "        auc_value = round(auc(fpr,tpr),2)\n",
    "        \n",
    "    # переберем все пороги в поисках наилучшей точности\n",
    "    for threshold in thresholds:\n",
    "        pre_marker = np.array(predictions > threshold)\n",
    "        pre_marker = np.where(pre_marker == False, -1,pre_marker)\n",
    "        pre_marker = np.where(pre_marker == True, 1,pre_marker)\n",
    "        accuracy = accuracy_score(target_vector,pre_marker)\n",
    "        if accuracy > best_accuracy:\n",
    "            best_accuracy = accuracy\n",
    "            best_threshold = threshold\n",
    "            \n",
    "    #Построим ROC-кривую\n",
    "    fig,ax = plt.subplots(figsize= (10,5))\n",
    "    ax.plot(np.arange(0,1.1,0.1),np.arange(0,1.1,0.1),label = 'BaseLine',ls = '--')\n",
    "    ax.plot(fpr,\n",
    "            tpr,\n",
    "            label = f\"Logistic Regression (area = {auc_value}, best_accuracy = {best_accuracy})\")\n",
    "    ax.legend()\n",
    "    ax.set_xlim((0,1))\n",
    "    ax.set_ylim((0,1))\n",
    "    \n",
    "    \n",
    "    return best_threshold,predictions\n",
    "    "
   ]
  },
  {
   "cell_type": "code",
   "execution_count": 10,
   "metadata": {
    "scrolled": true
   },
   "outputs": [
    {
     "data": {
      "image/png": "[encoded data removed]",
      "text/plain": [
       "<Figure size 720x360 with 1 Axes>"
      ]
     },
     "metadata": {
      "needs_background": "light"
     },
     "output_type": "display_data"
    }
   ],
   "source": [
    "final_threshold,final_pred = best_threshold(test_Y, final_pred)"
   ]
  },
  {
   "cell_type": "code",
   "execution_count": 11,
   "metadata": {},
   "outputs": [],
   "source": [
    "final_pred = np.array(final_pred > final_threshold)"
   ]
  },
  {
   "cell_type": "code",
   "execution_count": 12,
   "metadata": {},
   "outputs": [],
   "source": [
    "final_pred = np.where(final_pred == False, -1,final_pred)\n",
    "final_pred = np.where(final_pred == True, 1,final_pred)"
   ]
  },
  {
   "cell_type": "markdown",
   "metadata": {},
   "source": [
    "## Итог"
   ]
  },
  {
   "cell_type": "code",
   "execution_count": 13,
   "metadata": {},
   "outputs": [
    {
     "name": "stdout",
     "output_type": "stream",
     "text": [
      "Final accuracy: 0.7394957983193278\n"
     ]
    }
   ],
   "source": [
    "print(\"Final accuracy:\", accuracy_score(test_Y,final_pred))"
   ]
  }
 ],
 "metadata": {
  "kernelspec": {
   "display_name": "Python 3",
   "language": "python",
   "name": "python3"
  },
  "language_info": {
   "codemirror_mode": {
    "name": "ipython",
    "version": 3
   },
   "file_extension": ".py",
   "mimetype": "text/x-python",
   "name": "python",
   "nbconvert_exporter": "python",
   "pygments_lexer": "ipython3",
   "version": "3.6.9"
  }
 },
 "nbformat": 4,
 "nbformat_minor": 2
}
